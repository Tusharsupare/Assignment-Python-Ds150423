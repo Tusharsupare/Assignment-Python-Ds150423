{
 "cells": [
  {
   "cell_type": "markdown",
   "id": "36af0bca",
   "metadata": {},
   "source": [
    "### Delete the elements in a linked list whose sum is equal to zero:"
   ]
  },
  {
   "cell_type": "code",
   "execution_count": 1,
   "id": "1287bc8c",
   "metadata": {},
   "outputs": [],
   "source": [
    "def delete_zero_sum(head):\n",
    "    dummy = Node(0)\n",
    "    dummy.next = head\n",
    "    prefix_sum = 0\n",
    "    sum_map = {}\n",
    "\n",
    "    curr = dummy.next\n",
    "    while curr:\n",
    "        prefix_sum += curr.val\n",
    "\n",
    "        if prefix_sum in sum_map:\n",
    "            prev = sum_map[prefix_sum].next\n",
    "            prev_sum = prefix_sum + prev.val\n",
    "            while prev != curr:\n",
    "                del sum_map[prev_sum]\n",
    "                prev = prev.next\n",
    "                prev_sum += prev.val\n",
    "            sum_map[prefix_sum].next = curr.next\n",
    "        else:\n",
    "            sum_map[prefix_sum] = curr\n",
    "\n",
    "        curr = curr.next\n",
    "\n",
    "    return dummy.next"
   ]
  },
  {
   "cell_type": "markdown",
   "id": "2a81186c",
   "metadata": {},
   "source": [
    "### Reverse a linked list in groups of a given size:"
   ]
  },
  {
   "cell_type": "code",
   "execution_count": 2,
   "id": "8c5b166c",
   "metadata": {},
   "outputs": [],
   "source": [
    "def reverse_linked_list_in_groups(head, k):\n",
    "    def reverse_group(head, k):\n",
    "        prev = None\n",
    "        curr = head\n",
    "        for _ in range(k):\n",
    "            next = curr.next\n",
    "            curr.next = prev\n",
    "            prev = curr\n",
    "            curr = next\n",
    "        head.next = curr\n",
    "        return prev\n",
    "\n",
    "    dummy = Node(0)\n",
    "    dummy.next = head\n",
    "    prev_group_tail = dummy\n",
    "\n",
    "    while head:\n",
    "        tail = head\n",
    "        for _ in range(k - 1):\n",
    "            if tail.next:\n",
    "                tail = tail.next\n",
    "            else:\n",
    "                return dummy.next\n",
    "\n",
    "        next_group_head = tail.next\n",
    "        prev_group_tail.next = reverse_group(head, k)\n",
    "        prev_group_tail = head\n",
    "        head = next_group_head\n",
    "\n",
    "    return dummy.next"
   ]
  },
  {
   "cell_type": "markdown",
   "id": "b26efc09",
   "metadata": {},
   "source": [
    "### Merge a linked list into another linked list at alternate positions:"
   ]
  },
  {
   "cell_type": "code",
   "execution_count": 3,
   "id": "d5f30e04",
   "metadata": {},
   "outputs": [],
   "source": [
    "def merge_alternate_positions(head1, head2):\n",
    "    curr1 = head1\n",
    "    curr2 = head2\n",
    "\n",
    "    while curr1 and curr2:\n",
    "        next1 = curr1.next\n",
    "        next2 = curr2.next\n",
    "\n",
    "        curr2.next = next1\n",
    "        curr1.next = curr2\n",
    "\n",
    "        curr1 = next1\n",
    "        curr2 = next2\n",
    "\n",
    "    if curr2:\n",
    "        prev1 = head1\n",
    "        while prev1.next:\n",
    "            prev1 = prev1.next\n",
    "        prev1.next = curr2\n",
    "\n",
    "    return head1"
   ]
  },
  {
   "cell_type": "markdown",
   "id": "2a433a9f",
   "metadata": {},
   "source": [
    "### In an array, count pairs with a given sum:"
   ]
  },
  {
   "cell_type": "code",
   "execution_count": 4,
   "id": "bfe30752",
   "metadata": {},
   "outputs": [],
   "source": [
    "def count_pairs_with_sum(arr, target_sum):\n",
    "    count = 0\n",
    "    freq_map = {}\n",
    "\n",
    "    for num in arr:\n",
    "        diff = target_sum - num\n",
    "        if diff in freq_map:\n",
    "            count += freq_map[diff]\n",
    "        freq_map[num] = freq_map.get(num, 0) + 1\n",
    "\n",
    "    return count"
   ]
  },
  {
   "cell_type": "markdown",
   "id": "f538c3b2",
   "metadata": {},
   "source": [
    "### Find duplicates in an array:"
   ]
  },
  {
   "cell_type": "code",
   "execution_count": 5,
   "id": "4d1340a2",
   "metadata": {},
   "outputs": [],
   "source": [
    "def find_duplicates(arr):\n",
    "    duplicates = set()\n",
    "    seen = set()\n",
    "\n",
    "    for num in arr:\n",
    "        if num in seen:\n",
    "            duplicates.add(num)\n",
    "        else:\n",
    "            seen.add(num)\n",
    "\n",
    "    return duplicates"
   ]
  },
  {
   "cell_type": "markdown",
   "id": "e29c430c",
   "metadata": {},
   "source": [
    "### Find the Kth largest and Kth smallest number in an array:"
   ]
  },
  {
   "cell_type": "code",
   "execution_count": 6,
   "id": "9d4354b1",
   "metadata": {},
   "outputs": [],
   "source": [
    "import heapq\n",
    "\n",
    "def find_kth_largest_smallest(arr, k):\n",
    "    smallest_k = heapq.nsmallest(k, arr)\n",
    "    largest_k = heapq.nlargest(k, arr)\n",
    "    return smallest_k[-1], largest_k[-1]"
   ]
  },
  {
   "cell_type": "markdown",
   "id": "66fa52a4",
   "metadata": {},
   "source": [
    "### Move all the negative elements to one side of the array:"
   ]
  },
  {
   "cell_type": "code",
   "execution_count": 7,
   "id": "fea1c56b",
   "metadata": {},
   "outputs": [],
   "source": [
    "def move_negative_elements(arr):\n",
    "    left = 0\n",
    "    right = len(arr) - 1\n",
    "\n",
    "    while left <= right:\n",
    "        if arr[left] < 0 and arr[right] < 0:\n",
    "            left += 1\n",
    "        elif arr[left] >= 0 and arr[right] < 0:\n",
    "            arr[left], arr[right] = arr[right], arr[left]\n",
    "            left += 1\n",
    "            right -= 1\n",
    "        elif arr[left] >= 0 and arr[right] >= 0:\n",
    "            right -= 1\n",
    "        else:\n",
    "            left += 1\n",
    "            right -= 1\n",
    "\n",
    "    return arr"
   ]
  },
  {
   "cell_type": "markdown",
   "id": "ded68302",
   "metadata": {},
   "source": [
    "### Reverse a string using a stack data structure:"
   ]
  },
  {
   "cell_type": "code",
   "execution_count": 8,
   "id": "d5be4011",
   "metadata": {},
   "outputs": [],
   "source": [
    "def reverse_string(string):\n",
    "    stack = []\n",
    "    reversed_string = \"\"\n",
    "\n",
    "    for char in string:\n",
    "        stack.append(char)\n",
    "\n",
    "    while stack:\n",
    "        reversed_string += stack.pop()\n",
    "\n",
    "    return reversed_string"
   ]
  },
  {
   "cell_type": "markdown",
   "id": "61371791",
   "metadata": {},
   "source": [
    "### Evaluate a postfix expression using a stack:"
   ]
  },
  {
   "cell_type": "code",
   "execution_count": 9,
   "id": "8824a632",
   "metadata": {},
   "outputs": [],
   "source": [
    "def evaluate_postfix_expression(expression):\n",
    "    stack = []\n",
    "\n",
    "    for char in expression:\n",
    "        if char.isdigit():\n",
    "            stack.append(int(char))\n",
    "        else:\n",
    "            operand2 = stack.pop()\n",
    "            operand1 = stack.pop()\n",
    "            result = perform_operation(operand1, operand2, char)\n",
    "            stack.append(result)\n",
    "\n",
    "    return stack.pop()\n",
    "\n",
    "def perform_operation(operand1, operand2, operator):\n",
    "    if operator == '+':\n",
    "        return operand1 + operand2\n",
    "    elif operator == '-':\n",
    "        return operand1 - operand2\n",
    "    elif operator == '*':\n",
    "        return operand1 * operand2\n",
    "    elif operator == '/':\n",
    "        return operand1 / operand2"
   ]
  },
  {
   "cell_type": "markdown",
   "id": "c224a7d3",
   "metadata": {},
   "source": [
    "### Implement a queue using the stack data structure:"
   ]
  },
  {
   "cell_type": "code",
   "execution_count": 10,
   "id": "4f9f2fc8",
   "metadata": {},
   "outputs": [
    {
     "name": "stdout",
     "output_type": "stream",
     "text": [
      "1\n",
      "2\n",
      "3\n"
     ]
    }
   ],
   "source": [
    "class Queue:\n",
    "    def __init__(self):\n",
    "        self.stack1 = []\n",
    "        self.stack2 = []\n",
    "\n",
    "    def is_empty(self):\n",
    "        return len(self.stack1) == 0 and len(self.stack2) == 0\n",
    "\n",
    "    def enqueue(self, item):\n",
    "        self.stack1.append(item)\n",
    "\n",
    "    def dequeue(self):\n",
    "        if self.is_empty():\n",
    "            return None\n",
    "\n",
    "        if len(self.stack2) == 0:\n",
    "            while len(self.stack1) > 0:\n",
    "                self.stack2.append(self.stack1.pop())\n",
    "\n",
    "        return self.stack2.pop()\n",
    "\n",
    "# Example usage:\n",
    "queue = Queue()\n",
    "queue.enqueue(1)\n",
    "queue.enqueue(2)\n",
    "queue.enqueue(3)\n",
    "print(queue.dequeue())\n",
    "print(queue.dequeue())\n",
    "print(queue.dequeue())"
   ]
  },
  {
   "cell_type": "code",
   "execution_count": null,
   "id": "54315228",
   "metadata": {},
   "outputs": [],
   "source": []
  }
 ],
 "metadata": {
  "kernelspec": {
   "display_name": "Python 3 (ipykernel)",
   "language": "python",
   "name": "python3"
  },
  "language_info": {
   "codemirror_mode": {
    "name": "ipython",
    "version": 3
   },
   "file_extension": ".py",
   "mimetype": "text/x-python",
   "name": "python",
   "nbconvert_exporter": "python",
   "pygments_lexer": "ipython3",
   "version": "3.9.7"
  }
 },
 "nbformat": 4,
 "nbformat_minor": 5
}
